{
 "cells": [
  {
   "cell_type": "markdown",
   "metadata": {},
   "source": [
    "# Investigating College Sexual Assault Data "
   ]
  },
  {
   "cell_type": "markdown",
   "metadata": {},
   "source": [
    "This notebook explores college sexual assault data collected from 2005 - 2015. All data was downloaded from https://ope.ed.gov/campussafety/#/datafile/list\n",
    "\n",
    "In addition, this notebook gathers Title IX investigation data from http://projects.chronicle.com/titleix/api/v1/docs/\n",
    "\n",
    "This notebook essentially generates a Python Pandas DataFrame of information about colleges sexual violence instances in on-campus residence halls: how many sexual crimes were recorded in a given year, the male / female enrollment in a given year, and total number of Title IX investigations a college has endured. Note: the male / female enrollment data is included because it is easily accessible and interesting, however, I am not incinuiating that there is at all a correlation or causal effect between male / female enrollment data and sexual assault information (other than more people would imply more likely to have sexual assaults). The DataFrame I generate is eventually written to a CSV file and then used to generate a MongoDB database which serves as the back-end for a website. \n",
    "\n",
    "This data was collected and is presented in part for a final project for Ethical Reasoning 42: Sexual Ethics"
   ]
  },
  {
   "cell_type": "markdown",
   "metadata": {},
   "source": [
    "## 1. Importing Necessary Dependencies and Data Aggregating"
   ]
  },
  {
   "cell_type": "markdown",
   "metadata": {},
   "source": [
    "Warning: this part is very code heavy. Here we import the necessary dependencies, read in, and aggreagate all of the data. \n",
    "\n",
    "Some of the challenges with this were that the data was seperated and collected in three year intervals, such that data in the 2005-2007 spreadsheet could later be overwritten by data in the 2006-2008 spreadhseet. In addition, it was hard to come up with a good \"programmatic\" way to do merge all of the data: data was collected differently in different years. This code is still not really as nice as it could be (but is code ever as good as it could be?): it doesn't do any error handling, and even though it tries to extract out commonalities it has to be pretty specific to various spreadsheets because of differences in data collection. \n",
    "\n",
    "Prior to 2014, sexual assault crime was either considered \"forcible\" or \"non-forcible.\" In 2014, this category was changed such that sexual crime was classified as \"rape,\" \"statutory rape,\" \"incest,\" or \"fondling.\" Here, I aggreagte all of the data from 2005 - 2015 on sexual crimes classified as forcible, non-forcible, rape, statutory rape, or fondling. For the purposes of this investigation, I do not consider incest to be sexual crime. Because data on male / female enrollment, college id, location, etc. is readily available, I also keep track of that. I do not consider crimes that aren't sexual in nature."
   ]
  },
  {
   "cell_type": "code",
   "execution_count": 275,
   "metadata": {
    "collapsed": false
   },
   "outputs": [],
   "source": [
    "import pandas as pd \n",
    "import numpy as np\n",
    "import requests\n",
    "from functools import reduce\n",
    "import matplotlib.pyplot as plt\n",
    "import seaborn as sns\n",
    "%matplotlib inline"
   ]
  },
  {
   "cell_type": "code",
   "execution_count": 122,
   "metadata": {
    "collapsed": true
   },
   "outputs": [],
   "source": [
    "# classic capitalizing some years and not others\n",
    "YEAR_DEPENDENT = ['FORCIB', 'NONFOR']\n",
    "COL_NAMES = ['UNITID_P', 'INSTNM', 'City', 'State', 'men_total', 'women_total']\n",
    "CSV_LIST = ['Residencehallcrime050607.xls', \n",
    "            'Residencehallcrime060708.xls', \n",
    "            'Residencehallcrime070809.xls', \n",
    "            'Residencehallcrime080910.xls', \n",
    "            'Residencehallcrime091011.xls', \n",
    "            'Residencehallcrime101112.xls', \n",
    "            'residencehallcrime111213.xls', \n",
    "            'residencehallcrime121314.xls', \n",
    "            'residencehallcrime131415.xls']"
   ]
  },
  {
   "cell_type": "code",
   "execution_count": 295,
   "metadata": {
    "collapsed": true
   },
   "outputs": [],
   "source": [
    "def generate_df(csv_list): \n",
    "    ''' function that generates final dataframe of sexual assault information I care about, described in \n",
    "        text above: \n",
    "\n",
    "        params: a list of strings corresponding to filenames in the same directory. \n",
    "            files are csvs of residential crime data \n",
    "        returns: a pandas DataFrame with college Ids, names, locations, and sexual \n",
    "            assault data (rape, forcible assault, non-forcible, etc.)\n",
    "            \n",
    "        This function generates some warnings (that ultimately end up not mattering)\n",
    "        because the file types for the excel spreadsheets provided are so old\n",
    "    '''\n",
    "    \n",
    "    def generate_params(f): \n",
    "        ''' generate list of years encapsulated by file based off a filename '''\n",
    "        return [str(int(f[18:20])), str(int(f[20:22])), str(int(f[22:24]))]\n",
    "    \n",
    "    def clean_names(nums, rape_col = None): \n",
    "        '''extract columns we care about -- only sexual assault data '''\n",
    "        cols = [y + n for y in YEAR_DEPENDENT for n in nums]\n",
    "        # if we're past 2014 we have to get information about\n",
    "        # rape, fondling, and statutory rape\n",
    "        if rape_col is not None: \n",
    "            ns = rape_col\n",
    "            ys = ['RAPE', 'FONDL', 'STATR']\n",
    "            cols = cols + [y + n for y in ys for n in ns]\n",
    "        return COL_NAMES + cols\n",
    "    \n",
    "    def converter(yr): \n",
    "        ''' we want to convert men and women numbers to track enrollments over the years '''\n",
    "        return {'men_total': 'men_total' + yr, 'women_total': 'women_total' + yr}\n",
    "    \n",
    "    def gendf(fname, cols, converter_yr, rape_col = None): \n",
    "        return pd.read_excel(fname)[clean_names(cols, rape_col = rape_col)].rename(index=str, columns=converter(converter_yr))\n",
    "    \n",
    "    dflist = []\n",
    "    for str_name in csv_list: \n",
    "        params = generate_params(str_name) \n",
    "        \n",
    "        # handling years 2014/2015 when data was collected differently :( \n",
    "        if '15' in params: \n",
    "            dflist.append(gendf(str_name, [params[0]], params[-1], params[-2:]))\n",
    "        else: \n",
    "            if '14' in params: \n",
    "                dflist.append(gendf(str_name, params[:2], params[-1], [params[-1]]))\n",
    "            else: \n",
    "                dflist.append(gendf(str_name, params, params[-1]))\n",
    "                \n",
    "    # combine dataframes based off of most recent data: data in the 2013-2015 dataframe may overwrite data\n",
    "    # in the 2012-2014 dataframe. we reverse the list of dataframes to be in the correct order \n",
    "    # (was too lazy to modify CSV list to be in correct order) and \n",
    "    # combine such that any non-null values are replaced with the most recent\n",
    "    dflist.reverse()\n",
    "    final_df = reduce(lambda d1, d2: d1.combine_first(d2), dflist)\n",
    "    return final_df"
   ]
  },
  {
   "cell_type": "code",
   "execution_count": 296,
   "metadata": {
    "collapsed": false
   },
   "outputs": [
    {
     "name": "stdout",
     "output_type": "stream",
     "text": [
      "WARNING *** OLE2 inconsistency: SSCS size is 0 but SSAT size is non-zero\n",
      "WARNING *** OLE2 inconsistency: SSCS size is 0 but SSAT size is non-zero\n"
     ]
    }
   ],
   "source": [
    "# ignore warnings, they don't end up mattering\n",
    "df = generate_df(CSV_LIST)"
   ]
  },
  {
   "cell_type": "code",
   "execution_count": 297,
   "metadata": {
    "collapsed": false
   },
   "outputs": [
    {
     "data": {
      "text/plain": [
       "Index([     u'UNITID_P',        u'INSTNM',          u'City',         u'State',\n",
       "         u'men_total15', u'women_total15',      u'FORCIB13',      u'NONFOR13',\n",
       "              u'RAPE14',        u'RAPE15',       u'FONDL14',       u'FONDL15',\n",
       "             u'STATR14',       u'STATR15',   u'men_total14', u'women_total14',\n",
       "            u'FORCIB12',      u'NONFOR12',   u'men_total13', u'women_total13',\n",
       "            u'FORCIB11',      u'NONFOR11',   u'men_total12', u'women_total12',\n",
       "            u'FORCIB10',      u'NONFOR10',   u'men_total11', u'women_total11',\n",
       "             u'FORCIB9',       u'NONFOR9',   u'men_total10', u'women_total10',\n",
       "             u'FORCIB8',       u'NONFOR8',    u'men_total9',  u'women_total9',\n",
       "             u'FORCIB7',       u'NONFOR7',    u'men_total8',  u'women_total8',\n",
       "             u'FORCIB6',       u'NONFOR6',    u'men_total7',  u'women_total7',\n",
       "             u'FORCIB5',       u'NONFOR5'],\n",
       "      dtype='object')"
      ]
     },
     "execution_count": 297,
     "metadata": {},
     "output_type": "execute_result"
    }
   ],
   "source": [
    "# sanity check -- did we get everything we wanted? \n",
    "df.columns"
   ]
  },
  {
   "cell_type": "markdown",
   "metadata": {},
   "source": [
    "# 2. Dealing with (or not Dealing with) Null Values"
   ]
  },
  {
   "cell_type": "markdown",
   "metadata": {},
   "source": [
    "Now that we have all of the data, we want to better understand it: how many schools actually reported data? If a school didn't report data, the entries in our DataFrame are replaced with \"NaN,\" which means the value doesn't exist. Let's see how many \"NaN\" (null) values there are for each of the statistics we care about"
   ]
  },
  {
   "cell_type": "code",
   "execution_count": 409,
   "metadata": {
    "collapsed": false
   },
   "outputs": [
    {
     "name": "stdout",
     "output_type": "stream",
     "text": [
      "COLUMN: UNITID_P, NULL VALUES: 0\n",
      "COLUMN: INSTNM, NULL VALUES: 0\n",
      "COLUMN: City, NULL VALUES: 0\n",
      "COLUMN: State, NULL VALUES: 0\n",
      "COLUMN: FORCIB13, NULL VALUES: 6323\n",
      "COLUMN: NONFOR13, NULL VALUES: 6323\n",
      "COLUMN: RAPE14, NULL VALUES: 7503\n",
      "COLUMN: RAPE15, NULL VALUES: 9132\n",
      "COLUMN: FONDL14, NULL VALUES: 7503\n",
      "COLUMN: FONDL15, NULL VALUES: 9132\n",
      "COLUMN: STATR14, NULL VALUES: 7503\n",
      "COLUMN: STATR15, NULL VALUES: 9132\n",
      "COLUMN: FORCIB12, NULL VALUES: 6470\n",
      "COLUMN: NONFOR12, NULL VALUES: 6470\n",
      "COLUMN: FORCIB11, NULL VALUES: 6627\n",
      "COLUMN: NONFOR11, NULL VALUES: 6627\n",
      "COLUMN: FORCIB10, NULL VALUES: 6580\n",
      "COLUMN: NONFOR10, NULL VALUES: 6580\n",
      "COLUMN: FORCIB9, NULL VALUES: 6676\n",
      "COLUMN: NONFOR9, NULL VALUES: 6676\n",
      "COLUMN: FORCIB8, NULL VALUES: 6761\n",
      "COLUMN: NONFOR8, NULL VALUES: 6761\n",
      "COLUMN: FORCIB7, NULL VALUES: 6832\n",
      "COLUMN: NONFOR7, NULL VALUES: 6832\n",
      "COLUMN: FORCIB6, NULL VALUES: 7764\n",
      "COLUMN: NONFOR6, NULL VALUES: 7764\n",
      "COLUMN: FORCIB5, NULL VALUES: 9355\n",
      "COLUMN: NONFOR5, NULL VALUES: 9355\n",
      "TOTAL NUMBER OF ENTRIES: 11593\n"
     ]
    }
   ],
   "source": [
    "# prints the column name and the number of null values\n",
    "for column in df.columns:\n",
    "    if 'men' not in column: \n",
    "        print \"COLUMN: %s, NULL VALUES: %s\" % (column, df[column].isnull().sum())\n",
    "print \"TOTAL NUMBER OF ENTRIES: %s\" % len(df)"
   ]
  },
  {
   "cell_type": "markdown",
   "metadata": {},
   "source": [
    "So it looks like a solid majority of our data is null! Out of 11,593 schools, there are always at least ~6,000 that don't have any data. Let's look some more of our values: what's the average amount of missing entries? There are 46 possible entries in our DataFrame, including school name, location, etc. Let's generate some summary statistics on our missing data: "
   ]
  },
  {
   "cell_type": "code",
   "execution_count": 422,
   "metadata": {
    "collapsed": false
   },
   "outputs": [
    {
     "name": "stdout",
     "output_type": "stream",
     "text": [
      "TOTAL POSSIBLE ENTRIES: 46\n",
      "MEAN NUMBER OF NULL VALUES: 17.3724661434\n",
      "STANDARD DEVIATION OF NULL VALUES: 9.69302686325\n",
      "MIN NUMBER OF NULL VALUES: 0\n",
      "MAX NUMBER OF NULL VALUES: 42\n"
     ]
    }
   ],
   "source": [
    "null_vals = df.isnull().sum(axis=1)\n",
    "print \"TOTAL POSSIBLE ENTRIES: %s\" % (len(df.columns))\n",
    "print \"MEAN NUMBER OF NULL VALUES: %s\" % null_vals.mean()\n",
    "print \"STANDARD DEVIATION OF NULL VALUES: %s\" % null_vals.std()\n",
    "print \"MIN NUMBER OF NULL VALUES: %s\" % null_vals.min()\n",
    "print \"MAX NUMBER OF NULL VALUES: %s\" % null_vals.max()"
   ]
  },
  {
   "cell_type": "markdown",
   "metadata": {},
   "source": [
    "So on average, any given college has ~17 missing entries. At most, we're missing 42 values (so everything except the ID, Name, City, and State), and at least we have all the data. There's a lot of variation in our data: the high standard deviation suggests that the amount of information we get for each college changes drastically depending on which college we're looking at. In this investigation, in the interest of keeping as much data as possible, I opt **not to drop the null values** or colleges that don't report all the data. "
   ]
  },
  {
   "cell_type": "markdown",
   "metadata": {},
   "source": [
    "## 3. Visualization -- A First Attempt"
   ]
  },
  {
   "cell_type": "markdown",
   "metadata": {},
   "source": [
    "First let's look at the most recent data -- on campus residential rapes, fondling, and statutory rapes. We deal with the values that aren't reporting them by making them 0 (to make our plot look a little more coherent)"
   ]
  },
  {
   "cell_type": "code",
   "execution_count": 325,
   "metadata": {
    "collapsed": false
   },
   "outputs": [
    {
     "data": {
      "image/png": "[encoded data removed]",
      "text/plain": [
       "<matplotlib.figure.Figure at 0x11bd8c490>"
      ]
     },
     "metadata": {},
     "output_type": "display_data"
    }
   ],
   "source": [
    "plt.plot(xrange(len(df)), df['RAPE15'].fillna(0), c = 'r', alpha = .6)\n",
    "plt.title(\"On-Campus Residence Hall Rapes: 2015\")\n",
    "plt.tick_params(\n",
    "    axis='x',          # changes apply to the x-axis\n",
    "    which='both',      # both major and minor ticks are affected\n",
    "    bottom='off',      # ticks along the bottom edge are off\n",
    "    top='off',         # ticks along the top edge are off\n",
    "    labelbottom='off') # labels along the bottom edge are off\n",
    "plt.xlabel('Colleges')\n",
    "plt.ylabel('Number of Rapes')\n",
    "plt.show()"
   ]
  },
  {
   "cell_type": "code",
   "execution_count": 437,
   "metadata": {
    "collapsed": false
   },
   "outputs": [
    {
     "data": {
      "image/png": "[encoded data removed]",
      "text/plain": [
       "<matplotlib.figure.Figure at 0x115bf00d0>"
      ]
     },
     "metadata": {},
     "output_type": "display_data"
    }
   ],
   "source": [
    "plt.plot(xrange(len(df)), df['STATR15'].fillna(0), c = 'b', alpha = .6)\n",
    "plt.title(\"On-Campus Residence Hall Statutory Rape: 2015\")\n",
    "plt.tick_params(\n",
    "    axis='x',          # changes apply to the x-axis\n",
    "    which='both',      # both major and minor ticks are affected\n",
    "    bottom='off',      # ticks along the bottom edge are off\n",
    "    top='off',         # ticks along the top edge are off\n",
    "    labelbottom='off') # labels along the bottom edge are off\n",
    "plt.xlabel('Colleges')\n",
    "plt.ylabel('Number of Rapes')\n",
    "plt.show()"
   ]
  },
  {
   "cell_type": "code",
   "execution_count": 438,
   "metadata": {
    "collapsed": false
   },
   "outputs": [
    {
     "data": {
      "image/png": "[encoded data removed]",
      "text/plain": [
       "<matplotlib.figure.Figure at 0x119f72c50>"
      ]
     },
     "metadata": {},
     "output_type": "display_data"
    }
   ],
   "source": [
    "plt.plot(xrange(len(df)), df['FONDL15'].fillna(0), c = 'g', alpha = .6)\n",
    "plt.title(\"On-Campus Residence Hall Fondling: 2015\")\n",
    "plt.tick_params(\n",
    "    axis='x',          # changes apply to the x-axis\n",
    "    which='both',      # both major and minor ticks are affected\n",
    "    bottom='off',      # ticks along the bottom edge are off\n",
    "    top='off',         # ticks along the top edge are off\n",
    "    labelbottom='off') # labels along the bottom edge are off\n",
    "plt.xlabel('Colleges')\n",
    "plt.ylabel('Number of Rapes')\n",
    "plt.show()\n"
   ]
  },
  {
   "cell_type": "markdown",
   "metadata": {},
   "source": [
    "Yikes! What is that giant spike in fondling?"
   ]
  },
  {
   "cell_type": "code",
   "execution_count": 434,
   "metadata": {
    "collapsed": false
   },
   "outputs": [
    {
     "data": {
      "text/html": [
       "<div>\n",
       "<table border=\"1\" class=\"dataframe\">\n",
       "  <thead>\n",
       "    <tr style=\"text-align: right;\">\n",
       "      <th></th>\n",
       "      <th>UNITID_P</th>\n",
       "      <th>INSTNM</th>\n",
       "      <th>City</th>\n",
       "      <th>State</th>\n",
       "      <th>men_total15</th>\n",
       "      <th>women_total15</th>\n",
       "      <th>FORCIB13</th>\n",
       "      <th>NONFOR13</th>\n",
       "      <th>RAPE14</th>\n",
       "      <th>RAPE15</th>\n",
       "      <th>...</th>\n",
       "      <th>NONFOR7</th>\n",
       "      <th>men_total8</th>\n",
       "      <th>women_total8</th>\n",
       "      <th>FORCIB6</th>\n",
       "      <th>NONFOR6</th>\n",
       "      <th>men_total7</th>\n",
       "      <th>women_total7</th>\n",
       "      <th>FORCIB5</th>\n",
       "      <th>NONFOR5</th>\n",
       "      <th>TITLE9</th>\n",
       "    </tr>\n",
       "  </thead>\n",
       "  <tbody>\n",
       "    <tr>\n",
       "      <th>2405</th>\n",
       "      <td>153658001.0</td>\n",
       "      <td>University of Iowa</td>\n",
       "      <td>IOWA CITY</td>\n",
       "      <td>IA</td>\n",
       "      <td>14898.0</td>\n",
       "      <td>15946.0</td>\n",
       "      <td>4.0</td>\n",
       "      <td>0.0</td>\n",
       "      <td>12.0</td>\n",
       "      <td>8.0</td>\n",
       "      <td>...</td>\n",
       "      <td>0.0</td>\n",
       "      <td>13.0</td>\n",
       "      <td>360.0</td>\n",
       "      <td>NaN</td>\n",
       "      <td>NaN</td>\n",
       "      <td>6242.0</td>\n",
       "      <td>9597.0</td>\n",
       "      <td>NaN</td>\n",
       "      <td>NaN</td>\n",
       "      <td>1.0</td>\n",
       "    </tr>\n",
       "  </tbody>\n",
       "</table>\n",
       "<p>1 rows × 47 columns</p>\n",
       "</div>"
      ],
      "text/plain": [
       "         UNITID_P              INSTNM       City State  men_total15  \\\n",
       "2405  153658001.0  University of Iowa  IOWA CITY    IA      14898.0   \n",
       "\n",
       "      women_total15  FORCIB13  NONFOR13  RAPE14  RAPE15   ...    NONFOR7  \\\n",
       "2405        15946.0       4.0       0.0    12.0     8.0   ...        0.0   \n",
       "\n",
       "      men_total8  women_total8  FORCIB6  NONFOR6  men_total7  women_total7  \\\n",
       "2405        13.0         360.0      NaN      NaN      6242.0        9597.0   \n",
       "\n",
       "      FORCIB5  NONFOR5  TITLE9  \n",
       "2405      NaN      NaN     1.0  \n",
       "\n",
       "[1 rows x 47 columns]"
      ]
     },
     "execution_count": 434,
     "metadata": {},
     "output_type": "execute_result"
    }
   ],
   "source": [
    "df[df['FONDL15'] == df['FONDL15'].max()]"
   ]
  },
  {
   "cell_type": "markdown",
   "metadata": {
    "collapsed": true
   },
   "source": [
    "Looks like University of Iowa had some issues with fondling in 2015..."
   ]
  },
  {
   "cell_type": "markdown",
   "metadata": {},
   "source": [
    "In the next chart we plot on campus residence hall rapes in 2014 and 2015 together, the former in blue and the latter in red, to see if we can see any clear decrease or trend from year to year. This plot is super not interprettable but honestly looks cool so I'm leaving it"
   ]
  },
  {
   "cell_type": "code",
   "execution_count": 440,
   "metadata": {
    "collapsed": false
   },
   "outputs": [
    {
     "data": {
      "image/png": "[encoded data removed]",
      "text/plain": [
       "<matplotlib.figure.Figure at 0x113b4b610>"
      ]
     },
     "metadata": {},
     "output_type": "display_data"
    }
   ],
   "source": [
    "fig = plt.figure(figsize=(20,10))\n",
    "plt.plot(xrange(len(df)), df['RAPE15'].fillna(0), c='r', alpha = .4, figure = fig)\n",
    "plt.plot(xrange(len(df)), df['RAPE14'].fillna(0), c = 'b', alpha = .4, figure = fig)\n",
    "plt.tick_params(\n",
    "    axis='x',          # changes apply to the x-axis\n",
    "    which='both',      # both major and minor ticks are affected\n",
    "    bottom='off',      # ticks along the bottom edge are off\n",
    "    top='off',         # ticks along the top edge are off\n",
    "    labelbottom='off') # labels along the bottom edge are off\n",
    "plt.title(\"On-Campus Residence Hall Rapes: 2014 - 2015\")\n",
    "plt.show()"
   ]
  },
  {
   "cell_type": "markdown",
   "metadata": {},
   "source": [
    "# Grabbing Title IX Data For Each College"
   ]
  },
  {
   "cell_type": "markdown",
   "metadata": {},
   "source": [
    "In this section, we interact with the Chronicle's API and grab data regarding instances of Title IX investigations, add it to our dataframe, and then write it all to a CSV for use in the underlying database for the website "
   ]
  },
  {
   "cell_type": "code",
   "execution_count": 423,
   "metadata": {
    "collapsed": false,
    "scrolled": true
   },
   "outputs": [
    {
     "name": "stdout",
     "output_type": "stream",
     "text": [
      "0\n",
      "100\n",
      "200\n",
      "300\n",
      "400\n",
      "500\n",
      "600\n",
      "700\n",
      "800\n",
      "900\n",
      "1000\n",
      "1100\n",
      "1200\n",
      "1300\n",
      "1400\n",
      "1500\n",
      "1600\n",
      "1700\n",
      "1800\n",
      "1900\n",
      "2000\n",
      "2100\n",
      "2200\n",
      "2300\n",
      "2400\n",
      "2500\n",
      "2600\n",
      "2700\n",
      "2800\n",
      "2900\n",
      "3000\n",
      "3100\n",
      "3200\n",
      "3300\n",
      "3400\n",
      "3500\n",
      "3600\n",
      "3700\n",
      "3800\n",
      "3900\n",
      "4000\n",
      "4100\n",
      "4200\n",
      "4300\n",
      "4400\n",
      "4500\n",
      "4600\n",
      "4700\n",
      "4800\n",
      "4900\n",
      "5000\n",
      "5100\n",
      "5200\n",
      "5300\n",
      "5400\n",
      "5500\n",
      "5600\n",
      "5700\n",
      "5800\n",
      "5900\n",
      "6000\n",
      "6100\n",
      "6200\n",
      "6300\n",
      "6400\n",
      "6500\n",
      "6600\n",
      "6700\n",
      "6800\n",
      "6900\n",
      "7000\n",
      "7100\n",
      "7200\n",
      "7300\n",
      "7400\n",
      "7500\n",
      "7600\n",
      "7700\n",
      "7800\n",
      "7900\n",
      "8000\n",
      "8100\n",
      "8200\n",
      "8300\n",
      "8400\n",
      "8500\n",
      "8600\n",
      "8700\n",
      "8800\n",
      "8900\n",
      "9000\n",
      "9100\n",
      "9200\n",
      "9300\n",
      "9400\n",
      "9500\n",
      "9600\n",
      "9700\n",
      "9800\n",
      "9900\n",
      "10000\n",
      "10100\n",
      "10200\n",
      "10300\n",
      "10400\n",
      "10500\n",
      "10600\n",
      "10700\n",
      "10800\n",
      "10900\n",
      "11000\n",
      "11100\n",
      "11200\n",
      "11300\n",
      "11400\n",
      "11500\n"
     ]
    }
   ],
   "source": [
    "title_list = []\n",
    "for i, row in enumerate(df['UNITID_P']):\n",
    "    if i % 100 == 0: \n",
    "        print i\n",
    "    r = requests.get('http://projects.chronicle.com/titleix/api/v1/colleges/?college_unitid=' + str(int(row))[:-3])\n",
    "    r = r.json()\n",
    "    if len(r) > 0: \n",
    "        title_list.append(float(r[0]['case_count']))\n",
    "    else: \n",
    "        title_list.append(float('nan'))    "
   ]
  },
  {
   "cell_type": "code",
   "execution_count": 426,
   "metadata": {
    "collapsed": false
   },
   "outputs": [
    {
     "data": {
      "text/html": [
       "<div>\n",
       "<table border=\"1\" class=\"dataframe\">\n",
       "  <thead>\n",
       "    <tr style=\"text-align: right;\">\n",
       "      <th></th>\n",
       "      <th>UNITID_P</th>\n",
       "      <th>INSTNM</th>\n",
       "      <th>City</th>\n",
       "      <th>State</th>\n",
       "      <th>men_total15</th>\n",
       "      <th>women_total15</th>\n",
       "      <th>FORCIB13</th>\n",
       "      <th>NONFOR13</th>\n",
       "      <th>RAPE14</th>\n",
       "      <th>RAPE15</th>\n",
       "      <th>...</th>\n",
       "      <th>NONFOR7</th>\n",
       "      <th>men_total8</th>\n",
       "      <th>women_total8</th>\n",
       "      <th>FORCIB6</th>\n",
       "      <th>NONFOR6</th>\n",
       "      <th>men_total7</th>\n",
       "      <th>women_total7</th>\n",
       "      <th>FORCIB5</th>\n",
       "      <th>NONFOR5</th>\n",
       "      <th>TITLE9</th>\n",
       "    </tr>\n",
       "  </thead>\n",
       "  <tbody>\n",
       "    <tr>\n",
       "      <th>0</th>\n",
       "      <td>100654001.0</td>\n",
       "      <td>Alabama A &amp; M University</td>\n",
       "      <td>NORMAL</td>\n",
       "      <td>AL</td>\n",
       "      <td>2409.0</td>\n",
       "      <td>3219.0</td>\n",
       "      <td>2.0</td>\n",
       "      <td>0.0</td>\n",
       "      <td>0.0</td>\n",
       "      <td>2.0</td>\n",
       "      <td>...</td>\n",
       "      <td>0.0</td>\n",
       "      <td>2233.0</td>\n",
       "      <td>2891.0</td>\n",
       "      <td>1.0</td>\n",
       "      <td>0.0</td>\n",
       "      <td>2505.0</td>\n",
       "      <td>3201.0</td>\n",
       "      <td>4.0</td>\n",
       "      <td>0.0</td>\n",
       "      <td>NaN</td>\n",
       "    </tr>\n",
       "    <tr>\n",
       "      <th>1</th>\n",
       "      <td>100663001.0</td>\n",
       "      <td>University of Alabama at Birmingham</td>\n",
       "      <td>BIRMINGHAM</td>\n",
       "      <td>AL</td>\n",
       "      <td>7185.0</td>\n",
       "      <td>11148.0</td>\n",
       "      <td>1.0</td>\n",
       "      <td>0.0</td>\n",
       "      <td>2.0</td>\n",
       "      <td>1.0</td>\n",
       "      <td>...</td>\n",
       "      <td>0.0</td>\n",
       "      <td>6431.0</td>\n",
       "      <td>9718.0</td>\n",
       "      <td>1.0</td>\n",
       "      <td>0.0</td>\n",
       "      <td>6480.0</td>\n",
       "      <td>9766.0</td>\n",
       "      <td>0.0</td>\n",
       "      <td>0.0</td>\n",
       "      <td>1.0</td>\n",
       "    </tr>\n",
       "    <tr>\n",
       "      <th>10</th>\n",
       "      <td>100760003.0</td>\n",
       "      <td>Central Alabama Community College</td>\n",
       "      <td>Talladega</td>\n",
       "      <td>AL</td>\n",
       "      <td>796.0</td>\n",
       "      <td>991.0</td>\n",
       "      <td>NaN</td>\n",
       "      <td>NaN</td>\n",
       "      <td>NaN</td>\n",
       "      <td>NaN</td>\n",
       "      <td>...</td>\n",
       "      <td>0.0</td>\n",
       "      <td>12525.0</td>\n",
       "      <td>12005.0</td>\n",
       "      <td>0.0</td>\n",
       "      <td>0.0</td>\n",
       "      <td>12256.0</td>\n",
       "      <td>11881.0</td>\n",
       "      <td>0.0</td>\n",
       "      <td>0.0</td>\n",
       "      <td>NaN</td>\n",
       "    </tr>\n",
       "    <tr>\n",
       "      <th>100</th>\n",
       "      <td>102368007.0</td>\n",
       "      <td>Troy University</td>\n",
       "      <td>Columbus</td>\n",
       "      <td>GA</td>\n",
       "      <td>6743.0</td>\n",
       "      <td>11022.0</td>\n",
       "      <td>NaN</td>\n",
       "      <td>NaN</td>\n",
       "      <td>NaN</td>\n",
       "      <td>NaN</td>\n",
       "      <td>...</td>\n",
       "      <td>0.0</td>\n",
       "      <td>264.0</td>\n",
       "      <td>539.0</td>\n",
       "      <td>0.0</td>\n",
       "      <td>0.0</td>\n",
       "      <td>1018.0</td>\n",
       "      <td>1934.0</td>\n",
       "      <td>0.0</td>\n",
       "      <td>0.0</td>\n",
       "      <td>NaN</td>\n",
       "    </tr>\n",
       "    <tr>\n",
       "      <th>1000</th>\n",
       "      <td>125718001.0</td>\n",
       "      <td>Westminster Theological Seminary in California</td>\n",
       "      <td>ESCONDIDO</td>\n",
       "      <td>CA</td>\n",
       "      <td>127.0</td>\n",
       "      <td>11.0</td>\n",
       "      <td>0.0</td>\n",
       "      <td>0.0</td>\n",
       "      <td>NaN</td>\n",
       "      <td>NaN</td>\n",
       "      <td>...</td>\n",
       "      <td>NaN</td>\n",
       "      <td>457.0</td>\n",
       "      <td>61.0</td>\n",
       "      <td>NaN</td>\n",
       "      <td>NaN</td>\n",
       "      <td>NaN</td>\n",
       "      <td>NaN</td>\n",
       "      <td>NaN</td>\n",
       "      <td>NaN</td>\n",
       "      <td>NaN</td>\n",
       "    </tr>\n",
       "  </tbody>\n",
       "</table>\n",
       "<p>5 rows × 47 columns</p>\n",
       "</div>"
      ],
      "text/plain": [
       "         UNITID_P                                          INSTNM        City  \\\n",
       "0     100654001.0                        Alabama A & M University      NORMAL   \n",
       "1     100663001.0             University of Alabama at Birmingham  BIRMINGHAM   \n",
       "10    100760003.0               Central Alabama Community College   Talladega   \n",
       "100   102368007.0                                 Troy University    Columbus   \n",
       "1000  125718001.0  Westminster Theological Seminary in California   ESCONDIDO   \n",
       "\n",
       "     State  men_total15  women_total15  FORCIB13  NONFOR13  RAPE14  RAPE15  \\\n",
       "0       AL       2409.0         3219.0       2.0       0.0     0.0     2.0   \n",
       "1       AL       7185.0        11148.0       1.0       0.0     2.0     1.0   \n",
       "10      AL        796.0          991.0       NaN       NaN     NaN     NaN   \n",
       "100     GA       6743.0        11022.0       NaN       NaN     NaN     NaN   \n",
       "1000    CA        127.0           11.0       0.0       0.0     NaN     NaN   \n",
       "\n",
       "       ...    NONFOR7  men_total8  women_total8  FORCIB6  NONFOR6  men_total7  \\\n",
       "0      ...        0.0      2233.0        2891.0      1.0      0.0      2505.0   \n",
       "1      ...        0.0      6431.0        9718.0      1.0      0.0      6480.0   \n",
       "10     ...        0.0     12525.0       12005.0      0.0      0.0     12256.0   \n",
       "100    ...        0.0       264.0         539.0      0.0      0.0      1018.0   \n",
       "1000   ...        NaN       457.0          61.0      NaN      NaN         NaN   \n",
       "\n",
       "      women_total7  FORCIB5  NONFOR5  TITLE9  \n",
       "0           3201.0      4.0      0.0     NaN  \n",
       "1           9766.0      0.0      0.0     1.0  \n",
       "10         11881.0      0.0      0.0     NaN  \n",
       "100         1934.0      0.0      0.0     NaN  \n",
       "1000           NaN      NaN      NaN     NaN  \n",
       "\n",
       "[5 rows x 47 columns]"
      ]
     },
     "execution_count": 426,
     "metadata": {},
     "output_type": "execute_result"
    }
   ],
   "source": [
    "df.head()"
   ]
  },
  {
   "cell_type": "markdown",
   "metadata": {},
   "source": [
    "Need to re-format the CSV to be most compatible with our JavaScript"
   ]
  },
  {
   "cell_type": "code",
   "execution_count": 471,
   "metadata": {
    "collapsed": false
   },
   "outputs": [],
   "source": [
    "def clean_row(yrs_list, row, dct): \n",
    "    for yr in yrs_list:\n",
    "        full_yr = '2' + ('0' * (3 - len(yr))) + yr\n",
    "        if int(yr) < 14: \n",
    "            # either forcible or nonforcible\n",
    "            for key in ['FORCIB', 'NONFOR']:\n",
    "                dct['YEAR'].append(full_yr)\n",
    "                dct['TYPE'].append(key)\n",
    "                dct['NUMBER'].append(row[key + yr])\n",
    "                dct['INST'].append(row['UNITID_P'])\n",
    "                dct['STATE'].append(row['State'])\n",
    "                dct['TITLEIX'].append(row['TITLE9'])\n",
    "                dct['NAME'].append(row['INSTNM'])\n",
    "                if int(yr) >= 7: \n",
    "                    dct['MEN'].append(row['men_total' + yr])\n",
    "                    dct['WOMEN'].append(row['women_total' + yr])\n",
    "                else:\n",
    "                    dct['MEN'].append(row['men_total7'])\n",
    "                    dct['WOMEN'].append(row['women_total7'])\n",
    "        else: \n",
    "            for key in ['RAPE', 'FONDL', 'STATR']: \n",
    "                dct['YEAR'].append(full_yr)\n",
    "                dct['TYPE'].append(key)\n",
    "                dct['NUMBER'].append(row[key + yr])\n",
    "                dct['INST'].append(row['UNITID_P'])\n",
    "                dct['STATE'].append(row['State'])\n",
    "                dct['TITLEIX'].append(row['TITLE9'])\n",
    "                dct['MEN'].append(row['men_total' + yr])\n",
    "                dct['WOMEN'].append(row['women_total' + yr])\n",
    "                dct['NAME'].append(row['INSTNM'])            \n",
    "    return "
   ]
  },
  {
   "cell_type": "code",
   "execution_count": 472,
   "metadata": {
    "collapsed": false
   },
   "outputs": [
    {
     "name": "stdout",
     "output_type": "stream",
     "text": [
      "0\n",
      "1000\n",
      "10000\n",
      "11000\n",
      "2000\n",
      "3000\n",
      "4000\n",
      "5000\n",
      "6000\n",
      "7000\n",
      "8000\n",
      "9000\n"
     ]
    }
   ],
   "source": [
    "new_df = {'YEAR': [], 'TYPE': [], 'INST': [], 'NAME': [], 'STATE': [], 'TITLEIX': [], 'NUMBER': [], 'MEN': [], 'WOMEN': []}\n",
    "yrs_list = ['5', '6', '7', '8', '9', '10', '11', '12', '13', '14', '15']\n",
    "for index, row in df.iterrows():\n",
    "    if int(index) % 1000 == 0: \n",
    "        print index\n",
    "    clean_row(yrs_list, row, new_df)"
   ]
  },
  {
   "cell_type": "code",
   "execution_count": 474,
   "metadata": {
    "collapsed": false
   },
   "outputs": [],
   "source": [
    "new_df = pd.DataFrame(new_df)"
   ]
  },
  {
   "cell_type": "code",
   "execution_count": 476,
   "metadata": {
    "collapsed": false
   },
   "outputs": [],
   "source": [
    "new_df.to_csv('js.csv', encoding='utf-8')"
   ]
  },
  {
   "cell_type": "code",
   "execution_count": null,
   "metadata": {
    "collapsed": true
   },
   "outputs": [],
   "source": []
  }
 ],
 "metadata": {
  "kernelspec": {
   "display_name": "Python 2",
   "language": "python",
   "name": "python2"
  },
  "language_info": {
   "codemirror_mode": {
    "name": "ipython",
    "version": 2
   },
   "file_extension": ".py",
   "mimetype": "text/x-python",
   "name": "python",
   "nbconvert_exporter": "python",
   "pygments_lexer": "ipython2",
   "version": "2.7.13"
  }
 },
 "nbformat": 4,
 "nbformat_minor": 2
}
